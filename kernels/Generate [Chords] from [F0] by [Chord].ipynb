{
 "cells": [
  {
   "cell_type": "code",
   "execution_count": 1,
   "metadata": {},
   "outputs": [
    {
     "name": "stderr",
     "output_type": "stream",
     "text": [
      "Using TensorFlow backend.\n"
     ]
    }
   ],
   "source": [
    "import pickle\n",
    "import re\n",
    "\n",
    "import random\n",
    "import numpy as np\n",
    "from collections import Counter\n",
    "from keras.models import Model\n",
    "from keras.layers import Input, Dense, GRU, Dropout\n",
    "from matplotlib import pyplot"
   ]
  },
  {
   "cell_type": "code",
   "execution_count": 2,
   "metadata": {
    "collapsed": true
   },
   "outputs": [],
   "source": [
    "import sys\n",
    "sys.path.insert(0, '../src/')\n",
    "import kernel_util"
   ]
  },
  {
   "cell_type": "code",
   "execution_count": 3,
   "metadata": {},
   "outputs": [
    {
     "data": {
      "text/plain": [
       "<module 'kernel_util' from '../1. Data Preparation/src/kernel_util.py'>"
      ]
     },
     "execution_count": 3,
     "metadata": {},
     "output_type": "execute_result"
    }
   ],
   "source": [
    "# Remove when done with kernel\n",
    "import importlib\n",
    "importlib.reload(kernel_util)"
   ]
  },
  {
   "cell_type": "code",
   "execution_count": 4,
   "metadata": {
    "collapsed": true
   },
   "outputs": [],
   "source": [
    "# Load data\n",
    "chords_f0s_beats = pickle.load(open(\"../src/chords-f0s-beats.pkl\", 'rb'))\n",
    "chords = [part[\"chords\"] for sid, song in chords_f0s_beats.items() for part in song]\n",
    "f0s = [part[\"f0s\"] for sid, song in chords_f0s_beats.items() for part in song]\n",
    "beats = [part[\"beats\"] for sid, song in chords_f0s_beats.items() for part in song]"
   ]
  },
  {
   "cell_type": "code",
   "execution_count": 5,
   "metadata": {
    "collapsed": true
   },
   "outputs": [],
   "source": [
    "### Train/Test splitting ###\n",
    "indices = [145, 92, 112, 161, 24, 266, 21, 83, 308, 246, 326, 126, 332, 65, 247, 263, 294, 68, 313, 156, 143, 344, 62, 210, 39, 84, 340, 134, 274, 257, 167, 48, 299, 102, 11, 331, 181, 214, 18, 90, 225, 82, 286, 56, 71, 153, 251, 256, 237, 287, 80, 137, 14, 131, 115, 309, 254, 273, 6, 307, 269, 315, 87, 19, 22, 125, 49, 305, 2, 133, 136, 250, 335, 334, 229, 105, 146, 47, 185, 107, 228, 261, 338, 322, 330, 123, 12, 94, 191, 292, 76, 135, 304, 122, 204, 333, 194, 291, 317, 60, 152, 61, 179, 173, 158, 280, 13, 336, 283, 195, 244, 85, 1, 8, 242, 119, 45, 255, 114, 279, 4, 74, 116, 52, 36, 215, 290, 197, 132, 258, 140, 139, 276, 206, 319, 342, 63, 20, 186, 168, 328, 303, 144, 138, 16, 199, 155, 213, 311, 264, 183, 30, 130, 55, 7, 108, 109, 5, 234, 190, 148, 217, 44, 298, 159, 265, 323, 154, 272, 151, 252, 118, 288, 23, 70, 216, 104, 9, 3, 64, 42, 262, 172, 259, 128, 211, 142, 275, 184, 223, 96, 219, 327, 343, 178, 300, 171, 243, 226, 166, 17, 41, 165, 189, 238, 175, 25, 72, 86, 35, 124, 37, 15, 177, 32, 297, 203, 77, 278, 33, 75, 157, 170, 147, 117, 34, 236, 120, 193, 221, 341, 73, 51, 57, 78, 110, 27, 224, 188, 282, 182, 271, 29, 239, 222, 40, 232, 296, 43, 218, 100, 293, 312, 201, 241, 150, 200, 233, 248, 281, 306, 97, 98, 28, 160, 10, 88, 207, 249, 66, 277, 240, 270, 95, 337, 163, 314, 99, 231, 162, 329, 38, 176, 267, 316, 198, 192, 202, 245, 196, 268, 111, 129, 0, 285, 164, 227, 209, 324, 54, 212, 289, 59, 31, 89, 220, 113, 301, 339, 208, 106, 180, 81, 67, 53, 79, 69, 46, 318, 310, 169, 127, 230, 50, 141, 26, 302, 260, 103, 187, 321, 295, 91, 149, 101, 205, 320, 93, 253, 325, 174, 121, 235, 284, 58]\n",
    "\n",
    "train_indices = indices[0:round(len(chords)*0.75)]\n",
    "test_indices = indices[round(len(chords)*0.75):]\n",
    "\n",
    "chords_train = [chords[i] for i in train_indices]\n",
    "chords_test = [chords[i] for i in test_indices]\n",
    "f0s_train = [f0s[i] for i in train_indices]\n",
    "f0s_test = [f0s[i] for i in test_indices]\n",
    "beats_train = [beats[i] for i in train_indices]\n",
    "beats_test = [beats[i] for i in test_indices]"
   ]
  },
  {
   "cell_type": "code",
   "execution_count": null,
   "metadata": {
    "collapsed": true
   },
   "outputs": [],
   "source": [
    "### Preprocess data ###\n",
    "# i.e. get all song section data split in beats altogether in a common list of list\n",
    "\n",
    "# Train data\n",
    "beat_chords_train = []\n",
    "beat_f0_seqs_train = []\n",
    "for (part_c, part_f, part_b) in zip(chords_train, f0s_train, beats_train):\n",
    "    part_f0_seqs, part_chords = kernel_util.split_in_chords(part_c, part_f, part_b)\n",
    "    beat_chords_train += [kernel_util.truncate_chord_to_triad_rwc(chord) for chord in part_chords]\n",
    "    beat_f0_seqs_train += part_f0_seqs\n",
    "    \n",
    "# Test data\n",
    "beat_chords_test = []\n",
    "beat_f0_seqs_test = []\n",
    "for (part_c, part_f, part_b) in zip(chords_test, f0s_test, beats_test):\n",
    "    part_f0_seqs, part_chords = kernel_util.split_in_chords(part_c, part_f, part_b)\n",
    "    beat_chords_test += [kernel_util.truncate_chord_to_triad_rwc(chord) for chord in part_chords]\n",
    "    beat_f0_seqs_test += part_f0_seqs"
   ]
  },
  {
   "cell_type": "code",
   "execution_count": null,
   "metadata": {
    "collapsed": true
   },
   "outputs": [],
   "source": [
    "# Train data\n",
    "chord_chords_train = []\n",
    "chord_f0_seqs_train = []\n",
    "for (part_c, part_f, part_b) in zip(chords_train, f0s_train, beats_train):\n",
    "    split_indices = get_chord_separation_indices(part_c)\n",
    "    for indices in split_indices:\n",
    "        f0_by_chord = [part_f[i] for i in indices]\n",
    "        if len(list(set([part_c[i] for i in indices])))>1:\n",
    "            print(\"Fuck\")\n",
    "        chord = truncate_chord(list(set([part_c[i] for i in indices]))[0])\n",
    "        chord_f0_seqs_train.append(f0_by_chord)\n",
    "        chord_chords_train.append(chord)\n",
    "        \n",
    "        \n",
    "chord_chords_train = []\n",
    "chord_f0_seqs_train = []\n",
    "for (part_c, part_f) in zip(chords_train, f0s_train):\n",
    "    part_f0_seqs, part_chords = kernel_util.split_in_chords(part_c, part_f)"
   ]
  }
 ],
 "metadata": {
  "kernelspec": {
   "display_name": "Python 3",
   "language": "python",
   "name": "python3"
  },
  "language_info": {
   "codemirror_mode": {
    "name": "ipython",
    "version": 3
   },
   "file_extension": ".py",
   "mimetype": "text/x-python",
   "name": "python",
   "nbconvert_exporter": "python",
   "pygments_lexer": "ipython3",
   "version": "3.6.5"
  }
 },
 "nbformat": 4,
 "nbformat_minor": 2
}
