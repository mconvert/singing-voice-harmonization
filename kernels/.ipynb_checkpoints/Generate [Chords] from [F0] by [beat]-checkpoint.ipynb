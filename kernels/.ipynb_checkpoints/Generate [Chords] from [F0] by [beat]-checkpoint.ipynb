{
 "cells": [
  {
   "cell_type": "code",
   "execution_count": 1,
   "metadata": {},
   "outputs": [
    {
     "name": "stderr",
     "output_type": "stream",
     "text": [
      "Using TensorFlow backend.\n"
     ]
    }
   ],
   "source": [
    "import pickle\n",
    "import re\n",
    "\n",
    "import random\n",
    "import numpy as np\n",
    "from collections import Counter\n",
    "from keras.models import Model\n",
    "from keras.layers import Input, Dense, GRU, Dropout\n",
    "from matplotlib import pyplot"
   ]
  },
  {
   "cell_type": "code",
   "execution_count": 2,
   "metadata": {
    "collapsed": true
   },
   "outputs": [],
   "source": [
    "import sys\n",
    "sys.path.insert(0, '../src/')\n",
    "import kernel_util"
   ]
  },
  {
   "cell_type": "code",
   "execution_count": 3,
   "metadata": {},
   "outputs": [
    {
     "data": {
      "text/plain": [
       "<module 'kernel_util' from '../1. Data Preparation/src/kernel_util.py'>"
      ]
     },
     "execution_count": 3,
     "metadata": {},
     "output_type": "execute_result"
    }
   ],
   "source": [
    "# Remove when done with kernel\n",
    "import importlib\n",
    "importlib.reload(kernel_util)"
   ]
  },
  {
   "cell_type": "code",
   "execution_count": 4,
   "metadata": {
    "collapsed": true
   },
   "outputs": [],
   "source": [
    "### Load data ###\n",
    "chords_f0s_beats = pickle.load(open(\"../src/chords-f0s-beats.pkl\", 'rb'))\n",
    "chords = [part[\"chords\"] for sid, song in chords_f0s_beats.items() for part in song]\n",
    "f0s = [part[\"f0s\"] for sid, song in chords_f0s_beats.items() for part in song]\n",
    "beats = [part[\"beats\"] for sid, song in chords_f0s_beats.items() for part in song]"
   ]
  },
  {
   "cell_type": "code",
   "execution_count": 5,
   "metadata": {
    "collapsed": true
   },
   "outputs": [],
   "source": [
    "### Train/Test splitting ###\n",
    "indices = [145, 92, 112, 161, 24, 266, 21, 83, 308, 246, 326, 126, 332, 65, 247, 263, 294, 68, 313, 156, 143, 344, 62, 210, 39, 84, 340, 134, 274, 257, 167, 48, 299, 102, 11, 331, 181, 214, 18, 90, 225, 82, 286, 56, 71, 153, 251, 256, 237, 287, 80, 137, 14, 131, 115, 309, 254, 273, 6, 307, 269, 315, 87, 19, 22, 125, 49, 305, 2, 133, 136, 250, 335, 334, 229, 105, 146, 47, 185, 107, 228, 261, 338, 322, 330, 123, 12, 94, 191, 292, 76, 135, 304, 122, 204, 333, 194, 291, 317, 60, 152, 61, 179, 173, 158, 280, 13, 336, 283, 195, 244, 85, 1, 8, 242, 119, 45, 255, 114, 279, 4, 74, 116, 52, 36, 215, 290, 197, 132, 258, 140, 139, 276, 206, 319, 342, 63, 20, 186, 168, 328, 303, 144, 138, 16, 199, 155, 213, 311, 264, 183, 30, 130, 55, 7, 108, 109, 5, 234, 190, 148, 217, 44, 298, 159, 265, 323, 154, 272, 151, 252, 118, 288, 23, 70, 216, 104, 9, 3, 64, 42, 262, 172, 259, 128, 211, 142, 275, 184, 223, 96, 219, 327, 343, 178, 300, 171, 243, 226, 166, 17, 41, 165, 189, 238, 175, 25, 72, 86, 35, 124, 37, 15, 177, 32, 297, 203, 77, 278, 33, 75, 157, 170, 147, 117, 34, 236, 120, 193, 221, 341, 73, 51, 57, 78, 110, 27, 224, 188, 282, 182, 271, 29, 239, 222, 40, 232, 296, 43, 218, 100, 293, 312, 201, 241, 150, 200, 233, 248, 281, 306, 97, 98, 28, 160, 10, 88, 207, 249, 66, 277, 240, 270, 95, 337, 163, 314, 99, 231, 162, 329, 38, 176, 267, 316, 198, 192, 202, 245, 196, 268, 111, 129, 0, 285, 164, 227, 209, 324, 54, 212, 289, 59, 31, 89, 220, 113, 301, 339, 208, 106, 180, 81, 67, 53, 79, 69, 46, 318, 310, 169, 127, 230, 50, 141, 26, 302, 260, 103, 187, 321, 295, 91, 149, 101, 205, 320, 93, 253, 325, 174, 121, 235, 284, 58]\n",
    "\n",
    "train_indices = indices[0:round(len(chords)*0.75)]\n",
    "test_indices = indices[round(len(chords)*0.75):]\n",
    "\n",
    "chords_train = [chords[i] for i in train_indices]\n",
    "chords_test = [chords[i] for i in test_indices]\n",
    "f0s_train = [f0s[i] for i in train_indices]\n",
    "f0s_test = [f0s[i] for i in test_indices]\n",
    "beats_train = [beats[i] for i in train_indices]\n",
    "beats_test = [beats[i] for i in test_indices]"
   ]
  },
  {
   "cell_type": "code",
   "execution_count": 6,
   "metadata": {
    "collapsed": true
   },
   "outputs": [],
   "source": [
    "### Preprocess data ###\n",
    "# i.e. get all song section data split in beats altogether in a common list of list\n",
    "\n",
    "# Train data\n",
    "beat_chords_train = []\n",
    "beat_f0_seqs_train = []\n",
    "for (part_c, part_f, part_b) in zip(chords_train, f0s_train, beats_train):\n",
    "    part_f0_seqs, part_chords = kernel_util.split_in_beats(part_c, part_f, part_b)\n",
    "    beat_chords_train += [kernel_util.truncate_chord_to_triad_rwc(chord) for chord in part_chords]\n",
    "    beat_f0_seqs_train += part_f0_seqs\n",
    "    \n",
    "# Test data\n",
    "beat_chords_test = []\n",
    "beat_f0_seqs_test = []\n",
    "for (part_c, part_f, part_b) in zip(chords_test, f0s_test, beats_test):\n",
    "    part_f0_seqs, part_chords = kernel_util.split_in_beats(part_c, part_f, part_b)\n",
    "    beat_chords_test += [kernel_util.truncate_chord_to_triad_rwc(chord) for chord in part_chords]\n",
    "    beat_f0_seqs_test += part_f0_seqs"
   ]
  },
  {
   "cell_type": "code",
   "execution_count": 7,
   "metadata": {
    "collapsed": true
   },
   "outputs": [],
   "source": [
    "### Target classes mapping ###\n",
    "total_chords = []\n",
    "for part in chords:\n",
    "    for chord in part:\n",
    "        total_chords.append(kernel_util.truncate_chord_to_triad_rwc(chord))\n",
    "\n",
    "distinct_target = list(set(total_chords))\n",
    "chords_label_index = dict(\n",
    "    [(c, i) for i, c in enumerate(sorted(distinct_target))])\n",
    "\n",
    "mapping_to_chord = {}\n",
    "for k, v in chords_label_index.items():\n",
    "    mapping_to_chord[v] = k"
   ]
  },
  {
   "cell_type": "code",
   "execution_count": 8,
   "metadata": {},
   "outputs": [
    {
     "name": "stdout",
     "output_type": "stream",
     "text": [
      "Total number of input train samples: 21089\n",
      "Total number of input test samples: 6961\n",
      "Maximum input sequence length: 97\n",
      "Vector size in each input sequence: 1\n",
      "Total number of target chord labels: 58\n"
     ]
    }
   ],
   "source": [
    "### Variables definition ###\n",
    "num_samples_train = len(beat_f0_seqs_train)\n",
    "num_samples_test = len(beat_f0_seqs_test)\n",
    "max_input_seq_len = max([len(beat_seq) for beat_seq in beat_f0_seqs_train+beat_f0_seqs_test])\n",
    "input_vector_size = 1\n",
    "output_vector_size = len(chords_label_index)\n",
    "\n",
    "print(\"Total number of input train samples:\", num_samples_train)\n",
    "print(\"Total number of input test samples:\", num_samples_test)\n",
    "print(\"Maximum input sequence length:\", max_input_seq_len)\n",
    "print(\"Vector size in each input sequence:\", input_vector_size)\n",
    "print(\"Total number of target chord labels:\", output_vector_size)"
   ]
  },
  {
   "cell_type": "code",
   "execution_count": 9,
   "metadata": {
    "collapsed": true
   },
   "outputs": [],
   "source": [
    "### Build Tensors ###\n",
    "\n",
    "# Initialize tensors\n",
    "X_train = np.zeros(\n",
    "    (num_samples_train, max_input_seq_len, input_vector_size), # add two rows for the padding class and for the duration metric\n",
    "    dtype='float32')\n",
    "\n",
    "y_train = np.zeros(\n",
    "    (num_samples_train, output_vector_size),\n",
    "    dtype='float32')\n",
    "\n",
    "X_test = np.zeros(\n",
    "    (num_samples_test, max_input_seq_len, input_vector_size), # add two rows for the padding class and for the duration metric\n",
    "    dtype='float32')\n",
    "\n",
    "y_test = np.zeros(\n",
    "    (num_samples_test, output_vector_size),\n",
    "    dtype='float32')\n",
    "\n",
    "# Fill tensors\n",
    "for i, (beat_f, beat_c) in enumerate(zip(beat_f0_seqs_train, beat_chords_train)):\n",
    "    y_train[i, chords_label_index[beat_c]] = 1    \n",
    "    for j, f in enumerate(beat_f):\n",
    "        X_train[i, j, 0] = f\n",
    "        \n",
    "for i, (beat_f, beat_c) in enumerate(zip(beat_f0_seqs_test, beat_chords_test)):\n",
    "    y_test[i, chords_label_index[beat_c]] = 1    \n",
    "    for j, f in enumerate(beat_f):\n",
    "        X_test[i, j, 0] = f"
   ]
  },
  {
   "cell_type": "code",
   "execution_count": 10,
   "metadata": {
    "collapsed": true
   },
   "outputs": [],
   "source": [
    "### Build model ###\n",
    "hidden_units = 64\n",
    "\n",
    "x = Input(shape=(max_input_seq_len, input_vector_size))\n",
    "layer_1 = GRU(hidden_units, return_sequences=True)(x)\n",
    "dropout_1 = Dropout(0.2)(layer_1)\n",
    "layer_2 = GRU(hidden_units)(dropout_1)\n",
    "dropout_2 = Dropout(0.2)(layer_2)\n",
    "chord_prediction = Dense(output_vector_size, activation='softmax')(dropout_2)\n",
    "\n",
    "model = Model(x, chord_prediction)\n",
    "model.compile(loss='categorical_crossentropy',\n",
    "                   optimizer='adam',\n",
    "                   metrics=['accuracy'])"
   ]
  },
  {
   "cell_type": "code",
   "execution_count": 50,
   "metadata": {},
   "outputs": [
    {
     "name": "stdout",
     "output_type": "stream",
     "text": [
      "Train on 21089 samples, validate on 6961 samples\n",
      "Epoch 1/20\n",
      "21089/21089 [==============================] - 52s - loss: 3.0109 - acc: 0.1289 - val_loss: 3.2860 - val_acc: 0.1053\n",
      "Epoch 2/20\n",
      "21089/21089 [==============================] - 52s - loss: 2.9923 - acc: 0.1276 - val_loss: 3.2862 - val_acc: 0.1093\n",
      "Epoch 3/20\n",
      "21089/21089 [==============================] - 52s - loss: 2.9820 - acc: 0.1326 - val_loss: 3.2837 - val_acc: 0.1119\n",
      "Epoch 4/20\n",
      "21089/21089 [==============================] - 52s - loss: 2.9761 - acc: 0.1321 - val_loss: 3.2835 - val_acc: 0.1135\n",
      "Epoch 5/20\n",
      "21089/21089 [==============================] - 52s - loss: 2.9700 - acc: 0.1293 - val_loss: 3.2868 - val_acc: 0.1141\n",
      "Epoch 6/20\n",
      "21089/21089 [==============================] - 52s - loss: 2.9679 - acc: 0.1316 - val_loss: 3.2781 - val_acc: 0.1121\n",
      "Epoch 7/20\n",
      "21089/21089 [==============================] - 52s - loss: 2.9620 - acc: 0.1315 - val_loss: 3.2725 - val_acc: 0.1149\n",
      "Epoch 8/20\n",
      "21089/21089 [==============================] - 52s - loss: 2.9586 - acc: 0.1335 - val_loss: 3.2683 - val_acc: 0.1149\n",
      "Epoch 9/20\n",
      "21089/21089 [==============================] - 52s - loss: 2.9545 - acc: 0.1319 - val_loss: 3.2592 - val_acc: 0.1144\n",
      "Epoch 10/20\n",
      "21089/21089 [==============================] - 52s - loss: 2.9484 - acc: 0.1326 - val_loss: 3.2412 - val_acc: 0.1164\n",
      "Epoch 11/20\n",
      "21089/21089 [==============================] - 52s - loss: 2.9454 - acc: 0.1338 - val_loss: 3.2425 - val_acc: 0.1151\n",
      "Epoch 12/20\n",
      "21089/21089 [==============================] - 52s - loss: 2.9402 - acc: 0.1384 - val_loss: 3.2466 - val_acc: 0.1234\n",
      "Epoch 13/20\n",
      "21089/21089 [==============================] - 52s - loss: 2.9344 - acc: 0.1328 - val_loss: 3.2452 - val_acc: 0.1179\n",
      "Epoch 14/20\n",
      "21089/21089 [==============================] - 52s - loss: 2.9325 - acc: 0.1344 - val_loss: 3.2303 - val_acc: 0.1201\n",
      "Epoch 15/20\n",
      "21089/21089 [==============================] - 52s - loss: 2.9258 - acc: 0.1357 - val_loss: 3.2379 - val_acc: 0.1231\n",
      "Epoch 16/20\n",
      "21089/21089 [==============================] - 52s - loss: 2.9216 - acc: 0.1374 - val_loss: 3.2238 - val_acc: 0.1263\n",
      "Epoch 17/20\n",
      "21089/21089 [==============================] - 52s - loss: 2.9199 - acc: 0.1353 - val_loss: 3.2322 - val_acc: 0.1261\n",
      "Epoch 18/20\n",
      "21089/21089 [==============================] - 52s - loss: 2.9172 - acc: 0.1372 - val_loss: 3.2257 - val_acc: 0.1270\n",
      "Epoch 19/20\n",
      "21089/21089 [==============================] - 52s - loss: 2.9111 - acc: 0.1381 - val_loss: 3.2055 - val_acc: 0.1266\n",
      "Epoch 20/20\n",
      "21089/21089 [==============================] - 52s - loss: 2.9125 - acc: 0.1377 - val_loss: 3.2304 - val_acc: 0.1237\n"
     ]
    }
   ],
   "source": [
    "### Train and evaluate model ###\n",
    "batch_size = 64\n",
    "epochs = 20\n",
    "history = model.fit(X_train, y_train, validation_data=(X_test,y_test), epochs=epochs, batch_size=batch_size, verbose=1)"
   ]
  },
  {
   "cell_type": "code",
   "execution_count": 51,
   "metadata": {},
   "outputs": [
    {
     "data": {
      "image/png": "[encoded data removed]",
      "text/plain": [
       "<matplotlib.figure.Figure at 0x7f8b4cdffba8>"
      ]
     },
     "metadata": {},
     "output_type": "display_data"
    },
    {
     "data": {
      "image/png": "[encoded data removed]",
      "text/plain": [
       "<matplotlib.figure.Figure at 0x7f8b4ce36d68>"
      ]
     },
     "metadata": {},
     "output_type": "display_data"
    }
   ],
   "source": [
    "### Visualize learning ###\n",
    "pyplot.plot(history.history['loss'])\n",
    "pyplot.plot(history.history['val_loss'])\n",
    "pyplot.title('model train vs validation loss')\n",
    "pyplot.ylabel('loss')\n",
    "pyplot.xlabel('epoch')\n",
    "pyplot.legend(['train', 'validation'], loc='upper right')\n",
    "pyplot.show()\n",
    "\n",
    "pyplot.plot(history.history['acc'])\n",
    "pyplot.plot(history.history['val_acc'])\n",
    "pyplot.title('model train vs validation acc')\n",
    "pyplot.ylabel('acc')\n",
    "pyplot.xlabel('epoch')\n",
    "pyplot.legend(['train', 'validation'], loc='upper right')\n",
    "pyplot.show()"
   ]
  },
  {
   "cell_type": "code",
   "execution_count": 62,
   "metadata": {},
   "outputs": [
    {
     "name": "stdout",
     "output_type": "stream",
     "text": [
      "['E:maj', 'E:maj', 'E:maj', 'C:maj', 'E:maj', 'G:maj', 'G:maj', 'G:maj', 'G:maj', 'E:maj', 'A:maj', 'E:maj', 'C:maj', 'E:maj', 'E:maj', 'E:maj', 'C:maj', 'E:maj', 'E:maj', 'E:maj', 'C:maj', 'G:maj']\n"
     ]
    }
   ],
   "source": [
    "### Visualize generation ###\n",
    "\n",
    "# randomly pick a part index from test_indices\n",
    "# build tensor for part\n",
    "# predict with batch=1\n",
    "# convert predict tensor to chord labels list\n",
    "\n",
    "\n",
    "# Randomly pick song part\n",
    "sample_index = random.randint(0, len(test_indices))\n",
    "sample_ch, sample_f0, sample_bt = chords_test[sample_index], f0s_test[sample_index], beats_test[sample_index]\n",
    "sample_f0_seqs, sample_chords = kernel_util.split_in_beats(sample_ch, sample_f0, sample_bt)\n",
    "sample_chords = [kernel_util.truncate_chord_to_triad_rwc(chord) for chord in sample_chords]\n",
    "\n",
    "# Build predict input tensor\n",
    "n_beats = len(sample_f0_seqs)\n",
    "X_predict = np.zeros(\n",
    "    (n_beats, max_input_seq_len, input_vector_size), # add two rows for the padding class and for the duration metric\n",
    "    dtype='float32')\n",
    "for i, b in enumerate(sample_f0_seqs):\n",
    "    for j, s in enumerate(b):\n",
    "        X_predict[i, j, 0] = s\n",
    "        \n",
    "y_predict = model.predict(X_predict, batch_size=1)\n",
    "\n",
    "predicted_chords = []\n",
    "for row in y_predict:\n",
    "    index = np.argmax(row)\n",
    "    predicted_chords.append(mapping_to_chord[index])\n",
    "print(predicted_chords)"
   ]
  },
  {
   "cell_type": "code",
   "execution_count": null,
   "metadata": {
    "collapsed": true
   },
   "outputs": [],
   "source": []
  },
  {
   "cell_type": "code",
   "execution_count": null,
   "metadata": {
    "collapsed": true
   },
   "outputs": [],
   "source": []
  }
 ],
 "metadata": {
  "kernelspec": {
   "display_name": "Python 3",
   "language": "python",
   "name": "python3"
  },
  "language_info": {
   "codemirror_mode": {
    "name": "ipython",
    "version": 3
   },
   "file_extension": ".py",
   "mimetype": "text/x-python",
   "name": "python",
   "nbconvert_exporter": "python",
   "pygments_lexer": "ipython3",
   "version": "3.6.5"
  }
 },
 "nbformat": 4,
 "nbformat_minor": 2
}
